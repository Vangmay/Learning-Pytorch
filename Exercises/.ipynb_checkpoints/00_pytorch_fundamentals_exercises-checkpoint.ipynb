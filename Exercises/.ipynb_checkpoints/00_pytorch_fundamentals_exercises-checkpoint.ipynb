{
 "cells": [
  {
   "cell_type": "markdown",
   "metadata": {
    "id": "AzDBM_v4iMe7"
   },
   "source": [
    "# 00. PyTorch Fundamentals Exercises\n",
    "\n",
    "### 1. Documentation reading \n",
    "\n",
    "A big part of deep learning (and learning to code in general) is getting familiar with the documentation of a certain framework you're using. We'll be using the PyTorch documentation a lot throughout the rest of this course. So I'd recommend spending 10-minutes reading the following (it's okay if you don't get some things for now, the focus is not yet full understanding, it's awareness):\n",
    "  * The documentation on [`torch.Tensor`](https://pytorch.org/docs/stable/tensors.html#torch-tensor).\n",
    "  * The documentation on [`torch.cuda`](https://pytorch.org/docs/master/notes/cuda.html#cuda-semantics).\n",
    "\n"
   ]
  },
  {
   "cell_type": "code",
   "execution_count": 1,
   "metadata": {
    "id": "bGD0oD8Kizak"
   },
   "outputs": [],
   "source": [
    "# No code solution (reading)"
   ]
  },
  {
   "cell_type": "markdown",
   "metadata": {
    "id": "__iXqqz-ioUJ"
   },
   "source": [
    "### 2. Create a random tensor with shape `(7, 7)`.\n"
   ]
  },
  {
   "cell_type": "code",
   "execution_count": 4,
   "metadata": {
    "id": "6pUq9Dc8i2L7"
   },
   "outputs": [
    {
     "data": {
      "text/plain": [
       "(tensor([[0.2703, 0.5352, 0.4405, 0.2604, 0.5942, 0.6483, 0.1006],\n",
       "         [0.0255, 0.1044, 0.2084, 0.0297, 0.7269, 0.3741, 0.8196],\n",
       "         [0.2269, 0.5862, 0.9236, 0.3349, 0.9723, 0.5686, 0.1846],\n",
       "         [0.2494, 0.3451, 0.3876, 0.7169, 0.4562, 0.4021, 0.7663],\n",
       "         [0.1418, 0.5678, 0.9980, 0.3312, 0.8877, 0.5352, 0.6610],\n",
       "         [0.6288, 0.2253, 0.7984, 0.0662, 0.3379, 0.8980, 0.6837],\n",
       "         [0.6775, 0.9585, 0.1485, 0.0856, 0.0990, 0.3472, 0.1750]]),\n",
       " torch.Size([7, 7]))"
      ]
     },
     "execution_count": 4,
     "metadata": {},
     "output_type": "execute_result"
    }
   ],
   "source": [
    "# Import torch\n",
    "import torch\n",
    "\n",
    "# Create random tensor\n",
    "x = torch.rand(size = (7,7))\n",
    "x, x.shape"
   ]
  },
  {
   "cell_type": "markdown",
   "metadata": {
    "id": "9-XxvRLfiqkR"
   },
   "source": [
    "### 3. Perform a matrix multiplication on the tensor from 2 with another random tensor with shape `(1, 7)` (hint: you may have to transpose the second tensor)."
   ]
  },
  {
   "cell_type": "code",
   "execution_count": 7,
   "metadata": {
    "id": "NcLqR0Sbi_vT"
   },
   "outputs": [
    {
     "data": {
      "text/plain": [
       "(tensor([[1.5353],\n",
       "         [1.6176],\n",
       "         [2.0801],\n",
       "         [1.7630],\n",
       "         [2.4417],\n",
       "         [2.3359],\n",
       "         [0.9701]]),\n",
       " torch.Size([7, 1]))"
      ]
     },
     "execution_count": 7,
     "metadata": {},
     "output_type": "execute_result"
    }
   ],
   "source": [
    "# Create another random tensor\n",
    "y = torch.rand(size = (1, 7))\n",
    "\n",
    "# Perform matrix multiplication \n",
    "z = x @ y.T\n",
    "z, z.shape"
   ]
  },
  {
   "cell_type": "markdown",
   "metadata": {
    "id": "eiutdKUFiryU"
   },
   "source": [
    "### 4. Set the random seed to `0` and do 2 & 3 over again.\n",
    "\n",
    "The output should be:\n",
    "```\n",
    "(tensor([[1.8542],\n",
    "         [1.9611],\n",
    "         [2.2884],\n",
    "         [3.0481],\n",
    "         [1.7067],\n",
    "         [2.5290],\n",
    "         [1.7989]]), torch.Size([7, 1]))\n",
    "```"
   ]
  },
  {
   "cell_type": "code",
   "execution_count": 8,
   "metadata": {
    "id": "D-lOWI_1jRMm"
   },
   "outputs": [
    {
     "data": {
      "text/plain": [
       "(tensor([[1.8542],\n",
       "         [1.9611],\n",
       "         [2.2884],\n",
       "         [3.0481],\n",
       "         [1.7067],\n",
       "         [2.5290],\n",
       "         [1.7989]]),\n",
       " torch.Size([7, 1]))"
      ]
     },
     "execution_count": 8,
     "metadata": {},
     "output_type": "execute_result"
    }
   ],
   "source": [
    "# Set manual seed\n",
    "torch.manual_seed(0)\n",
    "\n",
    "# Create two random tensors\n",
    "x = torch.rand(size = (7,7))\n",
    "y = torch.rand(size = (1, 7))\n",
    "\n",
    "# Matrix multiply tensors\n",
    "z = x @ y.T\n",
    "z, z.shape"
   ]
  },
  {
   "cell_type": "markdown",
   "metadata": {
    "id": "ezY6ks9Cis37"
   },
   "source": [
    "### 5. Speaking of random seeds, we saw how to set it with `torch.manual_seed()` but is there a GPU equivalent? (hint: you'll need to look into the documentation for `torch.cuda` for this one)\n",
    "  * If there is, set the GPU random seed to `1234`."
   ]
  },
  {
   "cell_type": "code",
   "execution_count": 9,
   "metadata": {
    "id": "_LKWcfSTjp00"
   },
   "outputs": [],
   "source": [
    "# Set random seed on the GPU\n",
    "torch.cuda.manual_seed(1234)"
   ]
  },
  {
   "cell_type": "markdown",
   "metadata": {
    "id": "Ir9qSaj6it4n"
   },
   "source": [
    "\n",
    "### 6. Create two random tensors of shape `(2, 3)` and send them both to the GPU (you'll need access to a GPU for this). Set `torch.manual_seed(1234)` when creating the tensors (this doesn't have to be the GPU random seed). The output should be something like:\n",
    "\n",
    "```\n",
    "Device: cuda\n",
    "(tensor([[0.0290, 0.4019, 0.2598],\n",
    "         [0.3666, 0.0583, 0.7006]], device='cuda:0'),\n",
    " tensor([[0.0518, 0.4681, 0.6738],\n",
    "         [0.3315, 0.7837, 0.5631]], device='cuda:0'))\n",
    "```"
   ]
  },
  {
   "cell_type": "code",
   "execution_count": 12,
   "metadata": {
    "id": "azXExiFZj5nm"
   },
   "outputs": [],
   "source": [
    "# Set random seed\n",
    "torch.manual_seed(1234)\n",
    "\n",
    "# Check for access to GPU\n",
    "device = \"mps\" if torch.backends.mps.is_available() else \"cpu\"\n",
    "device\n",
    "\n",
    "# Create two random tensors on GPU\n",
    "x = torch.rand(size = (2, 3)).to(device)\n",
    "y = torch.rand(size = (2, 3)).to(device)"
   ]
  },
  {
   "cell_type": "markdown",
   "metadata": {
    "id": "5TlAxeiSiu1y"
   },
   "source": [
    "\n",
    "### 7. Perform a matrix multiplication on the tensors you created in 6 (again, you may have to adjust the shapes of one of the tensors).\n",
    "\n",
    "The output should look like:\n",
    "```\n",
    "(tensor([[0.3647, 0.4709],\n",
    "         [0.5184, 0.5617]], device='cuda:0'), torch.Size([2, 2]))\n",
    "```"
   ]
  },
  {
   "cell_type": "code",
   "execution_count": 14,
   "metadata": {
    "id": "fAeG7ox0lHEO"
   },
   "outputs": [],
   "source": [
    "# Perform matmul on tensor_A and tensor_B\n",
    "z = x @ y.T"
   ]
  },
  {
   "cell_type": "markdown",
   "metadata": {
    "id": "G7qfa5CSivwg"
   },
   "source": [
    "### 8. Find the maximum and minimum values of the output of 7."
   ]
  },
  {
   "cell_type": "code",
   "execution_count": 16,
   "metadata": {
    "id": "Fu8_3mZpllOd"
   },
   "outputs": [
    {
     "data": {
      "text/plain": [
       "(tensor(0.5617), tensor(0.3647))"
      ]
     },
     "execution_count": 16,
     "metadata": {},
     "output_type": "execute_result"
    }
   ],
   "source": [
    "z.max(), z.min()"
   ]
  },
  {
   "cell_type": "markdown",
   "metadata": {
    "id": "wrTj5FgNiw47"
   },
   "source": [
    "### 9. Find the maximum and minimum index values of the output of 7."
   ]
  },
  {
   "cell_type": "code",
   "execution_count": 17,
   "metadata": {
    "id": "CCEKt4K2lsfQ"
   },
   "outputs": [
    {
     "data": {
      "text/plain": [
       "(tensor(0), tensor(3))"
      ]
     },
     "execution_count": 17,
     "metadata": {},
     "output_type": "execute_result"
    }
   ],
   "source": [
    "# Find arg max\n",
    "\n",
    "\n",
    "# Find arg min\n",
    "z.argmin(), z.argmax()"
   ]
  },
  {
   "cell_type": "markdown",
   "metadata": {
    "id": "hmeybz4uixy7"
   },
   "source": [
    "\n",
    "### 10. Make a random tensor with shape `(1, 1, 1, 10)` and then create a new tensor with all the `1` dimensions removed to be left with a tensor of shape `(10)`. Set the seed to `7` when you create it and print out the first tensor and it's shape as well as the second tensor and it's shape.\n",
    "\n",
    "The output should look like:\n",
    "\n",
    "```\n",
    "tensor([[[[0.5349, 0.1988, 0.6592, 0.6569, 0.2328, 0.4251, 0.2071, 0.6297,\n",
    "           0.3653, 0.8513]]]]) torch.Size([1, 1, 1, 10])\n",
    "tensor([0.5349, 0.1988, 0.6592, 0.6569, 0.2328, 0.4251, 0.2071, 0.6297, 0.3653,\n",
    "        0.8513]) torch.Size([10])\n",
    "```"
   ]
  },
  {
   "cell_type": "code",
   "execution_count": 21,
   "metadata": {
    "id": "TQ9zbRzVl1jV"
   },
   "outputs": [
    {
     "data": {
      "text/plain": [
       "(tensor([0.5349, 0.1988, 0.6592, 0.6569, 0.2328, 0.4251, 0.2071, 0.6297, 0.3653,\n",
       "         0.8513]),\n",
       " torch.Size([10]))"
      ]
     },
     "execution_count": 21,
     "metadata": {},
     "output_type": "execute_result"
    }
   ],
   "source": [
    "# Set seed\n",
    "torch.manual_seed(7)\n",
    "\n",
    "# Create random tensor\n",
    "a = torch.rand(size = (1, 1, 1, 10))\n",
    "\n",
    "# Remove single dimensions\n",
    "x = a.squeeze()\n",
    "\n",
    "# Print out tensors and their shapes\n",
    "x, x.shape"
   ]
  },
  {
   "cell_type": "code",
   "execution_count": null,
   "metadata": {},
   "outputs": [],
   "source": []
  }
 ],
 "metadata": {
  "accelerator": "GPU",
  "colab": {
   "collapsed_sections": [],
   "name": "00_pytorch_fundamentals_exercises.ipynb",
   "provenance": []
  },
  "kernelspec": {
   "display_name": "Python 3 (ipykernel)",
   "language": "python",
   "name": "python3"
  },
  "language_info": {
   "codemirror_mode": {
    "name": "ipython",
    "version": 3
   },
   "file_extension": ".py",
   "mimetype": "text/x-python",
   "name": "python",
   "nbconvert_exporter": "python",
   "pygments_lexer": "ipython3",
   "version": "3.12.7"
  }
 },
 "nbformat": 4,
 "nbformat_minor": 4
}
